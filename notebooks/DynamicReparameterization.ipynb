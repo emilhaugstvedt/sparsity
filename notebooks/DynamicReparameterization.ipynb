{
 "cells": [
  {
   "cell_type": "code",
   "execution_count": 1,
   "metadata": {},
   "outputs": [
    {
     "name": "stderr",
     "output_type": "stream",
     "text": [
      "/Users/emilhaugstvedt/mambaforge/envs/sparse/lib/python3.9/site-packages/tqdm/auto.py:22: TqdmWarning: IProgress not found. Please update jupyter and ipywidgets. See https://ipywidgets.readthedocs.io/en/stable/user_install.html\n",
      "  from .autonotebook import tqdm as notebook_tqdm\n"
     ]
    }
   ],
   "source": [
    "import torch\n",
    "from torch.utils.data import Dataset, DataLoader\n",
    "import matplotlib.pyplot as plt\n",
    "import numpy as np\n",
    "import pickle\n",
    "import sys\n",
    "\n",
    "sys.path.append('../')\n",
    "\n",
    "from dynamic_sparse_reparameterization.DynamicSparseReparameterizationNet import DynamicSparseReparameterizationNet"
   ]
  },
  {
   "cell_type": "code",
   "execution_count": 2,
   "metadata": {},
   "outputs": [],
   "source": [
    "dataset = \"Alu\"\n",
    "\n",
    "if dataset == \"Alu\":\n",
    "    with open('../data/alu/train.pickle', 'rb') as f:\n",
    "        train_data = pickle.load(f)\n",
    "\n",
    "    with open('../data/alu/test.pickle', 'rb') as f:\n",
    "        test_data = pickle.load(f)\n",
    "        \n",
    "if dataset == \"Duffing\":\n",
    "    with open('../data/duffing/train.pickle', 'rb') as f:\n",
    "        train_data = pickle.load(f)\n",
    "\n",
    "    with open('../data/duffing/test.pickle', 'rb') as f:\n",
    "        test_data = pickle.load(f)"
   ]
  },
  {
   "cell_type": "code",
   "execution_count": 3,
   "metadata": {},
   "outputs": [],
   "source": [
    "t_train = torch.linspace(0, train_data.DT * len(train_data.x), len(train_data.y))\n",
    "t_test = torch.linspace(0, test_data.DT * len(test_data.x), len(test_data.y))\n",
    "\n",
    "train_loader = DataLoader(train_data, batch_size=100, shuffle=True)\n",
    "test_loader = DataLoader(test_data, shuffle=True)"
   ]
  },
  {
   "cell_type": "code",
   "execution_count": 4,
   "metadata": {},
   "outputs": [],
   "source": [
    "model = DynamicSparseReparameterizationNet([13, 64, 64, 64, 8], H=0.001, sparsity=0.5, Np=100, fractional_tolerence=0.1, verbose=True)"
   ]
  },
  {
   "cell_type": "code",
   "execution_count": 5,
   "metadata": {},
   "outputs": [
    {
     "data": {
      "text/plain": [
       "tensor(4768)"
      ]
     },
     "execution_count": 5,
     "metadata": {},
     "output_type": "execute_result"
    }
   ],
   "source": [
    "model.get_number_of_nonzero_weights()"
   ]
  },
  {
   "cell_type": "code",
   "execution_count": 6,
   "metadata": {},
   "outputs": [
    {
     "name": "stdout",
     "output_type": "stream",
     "text": [
      "Epoch 0: 4.698143482208252\n",
      "Sparsity: 0.5 \n",
      "\n",
      "Pruned 8 weights\n",
      "Adjusted H to 0.002\n",
      "Grew 6 weights\n",
      "Epoch 10: 1.440098524093628\n",
      "Sparsity: 0.5002097189426422 \n",
      "\n",
      "Pruned 11 weights\n",
      "Adjusted H to 0.004\n",
      "Grew 8 weights\n"
     ]
    },
    {
     "ename": "KeyboardInterrupt",
     "evalue": "",
     "output_type": "error",
     "traceback": [
      "\u001b[0;31m---------------------------------------------------------------------------\u001b[0m",
      "\u001b[0;31mKeyboardInterrupt\u001b[0m                         Traceback (most recent call last)",
      "Cell \u001b[0;32mIn [6], line 1\u001b[0m\n\u001b[0;32m----> 1\u001b[0m model\u001b[39m.\u001b[39;49mtrain_n_epochs(train_loader\u001b[39m=\u001b[39;49mtrain_loader, n_epochs\u001b[39m=\u001b[39;49m\u001b[39m50\u001b[39;49m, lr\u001b[39m=\u001b[39;49m\u001b[39m0.01\u001b[39;49m, weight_decay\u001b[39m=\u001b[39;49m\u001b[39m0.001\u001b[39;49m, epochs_reallocate\u001b[39m=\u001b[39;49m\u001b[39m5\u001b[39;49m)\n\u001b[1;32m      2\u001b[0m model\u001b[39m.\u001b[39mtrain_n_epochs(train_loader\u001b[39m=\u001b[39mtrain_loader, n_epochs\u001b[39m=\u001b[39m\u001b[39m50\u001b[39m, lr\u001b[39m=\u001b[39m\u001b[39m0.001\u001b[39m, weight_decay\u001b[39m=\u001b[39m\u001b[39m0.001\u001b[39m, epochs_reallocate\u001b[39m=\u001b[39m\u001b[39m150\u001b[39m)\n",
      "File \u001b[0;32m~/Desktop/NTNU/master/sparsity/dynamic_sparse_reparameterization/DynamicSparseReparameterizationNet.py:187\u001b[0m, in \u001b[0;36mDynamicSparseReparameterizationNet.train_n_epochs\u001b[0;34m(self, train_loader, n_epochs, lr, weight_decay, epochs_reallocate, optimizer, criterion)\u001b[0m\n\u001b[1;32m    184\u001b[0m     \u001b[39mreturn\u001b[39;00m\n\u001b[1;32m    186\u001b[0m \u001b[39mfor\u001b[39;00m epoch \u001b[39min\u001b[39;00m \u001b[39mrange\u001b[39m(n_epochs):\n\u001b[0;32m--> 187\u001b[0m     \u001b[39mfor\u001b[39;00m x_batch, y_batch \u001b[39min\u001b[39;00m train_loader:\n\u001b[1;32m    188\u001b[0m         optimizer\u001b[39m.\u001b[39mzero_grad()\n\u001b[1;32m    189\u001b[0m         y_pred \u001b[39m=\u001b[39m \u001b[39mself\u001b[39m(x_batch)\n",
      "File \u001b[0;32m~/mambaforge/envs/sparse/lib/python3.9/site-packages/torch/utils/data/dataloader.py:628\u001b[0m, in \u001b[0;36m_BaseDataLoaderIter.__next__\u001b[0;34m(self)\u001b[0m\n\u001b[1;32m    625\u001b[0m \u001b[39mif\u001b[39;00m \u001b[39mself\u001b[39m\u001b[39m.\u001b[39m_sampler_iter \u001b[39mis\u001b[39;00m \u001b[39mNone\u001b[39;00m:\n\u001b[1;32m    626\u001b[0m     \u001b[39m# TODO(https://github.com/pytorch/pytorch/issues/76750)\u001b[39;00m\n\u001b[1;32m    627\u001b[0m     \u001b[39mself\u001b[39m\u001b[39m.\u001b[39m_reset()  \u001b[39m# type: ignore[call-arg]\u001b[39;00m\n\u001b[0;32m--> 628\u001b[0m data \u001b[39m=\u001b[39m \u001b[39mself\u001b[39;49m\u001b[39m.\u001b[39;49m_next_data()\n\u001b[1;32m    629\u001b[0m \u001b[39mself\u001b[39m\u001b[39m.\u001b[39m_num_yielded \u001b[39m+\u001b[39m\u001b[39m=\u001b[39m \u001b[39m1\u001b[39m\n\u001b[1;32m    630\u001b[0m \u001b[39mif\u001b[39;00m \u001b[39mself\u001b[39m\u001b[39m.\u001b[39m_dataset_kind \u001b[39m==\u001b[39m _DatasetKind\u001b[39m.\u001b[39mIterable \u001b[39mand\u001b[39;00m \\\n\u001b[1;32m    631\u001b[0m         \u001b[39mself\u001b[39m\u001b[39m.\u001b[39m_IterableDataset_len_called \u001b[39mis\u001b[39;00m \u001b[39mnot\u001b[39;00m \u001b[39mNone\u001b[39;00m \u001b[39mand\u001b[39;00m \\\n\u001b[1;32m    632\u001b[0m         \u001b[39mself\u001b[39m\u001b[39m.\u001b[39m_num_yielded \u001b[39m>\u001b[39m \u001b[39mself\u001b[39m\u001b[39m.\u001b[39m_IterableDataset_len_called:\n",
      "File \u001b[0;32m~/mambaforge/envs/sparse/lib/python3.9/site-packages/torch/utils/data/dataloader.py:671\u001b[0m, in \u001b[0;36m_SingleProcessDataLoaderIter._next_data\u001b[0;34m(self)\u001b[0m\n\u001b[1;32m    669\u001b[0m \u001b[39mdef\u001b[39;00m \u001b[39m_next_data\u001b[39m(\u001b[39mself\u001b[39m):\n\u001b[1;32m    670\u001b[0m     index \u001b[39m=\u001b[39m \u001b[39mself\u001b[39m\u001b[39m.\u001b[39m_next_index()  \u001b[39m# may raise StopIteration\u001b[39;00m\n\u001b[0;32m--> 671\u001b[0m     data \u001b[39m=\u001b[39m \u001b[39mself\u001b[39;49m\u001b[39m.\u001b[39;49m_dataset_fetcher\u001b[39m.\u001b[39;49mfetch(index)  \u001b[39m# may raise StopIteration\u001b[39;00m\n\u001b[1;32m    672\u001b[0m     \u001b[39mif\u001b[39;00m \u001b[39mself\u001b[39m\u001b[39m.\u001b[39m_pin_memory:\n\u001b[1;32m    673\u001b[0m         data \u001b[39m=\u001b[39m _utils\u001b[39m.\u001b[39mpin_memory\u001b[39m.\u001b[39mpin_memory(data, \u001b[39mself\u001b[39m\u001b[39m.\u001b[39m_pin_memory_device)\n",
      "File \u001b[0;32m~/mambaforge/envs/sparse/lib/python3.9/site-packages/torch/utils/data/_utils/fetch.py:58\u001b[0m, in \u001b[0;36m_MapDatasetFetcher.fetch\u001b[0;34m(self, possibly_batched_index)\u001b[0m\n\u001b[1;32m     56\u001b[0m         data \u001b[39m=\u001b[39m \u001b[39mself\u001b[39m\u001b[39m.\u001b[39mdataset\u001b[39m.\u001b[39m__getitems__(possibly_batched_index)\n\u001b[1;32m     57\u001b[0m     \u001b[39melse\u001b[39;00m:\n\u001b[0;32m---> 58\u001b[0m         data \u001b[39m=\u001b[39m [\u001b[39mself\u001b[39m\u001b[39m.\u001b[39mdataset[idx] \u001b[39mfor\u001b[39;00m idx \u001b[39min\u001b[39;00m possibly_batched_index]\n\u001b[1;32m     59\u001b[0m \u001b[39melse\u001b[39;00m:\n\u001b[1;32m     60\u001b[0m     data \u001b[39m=\u001b[39m \u001b[39mself\u001b[39m\u001b[39m.\u001b[39mdataset[possibly_batched_index]\n",
      "File \u001b[0;32m~/mambaforge/envs/sparse/lib/python3.9/site-packages/torch/utils/data/_utils/fetch.py:58\u001b[0m, in \u001b[0;36m<listcomp>\u001b[0;34m(.0)\u001b[0m\n\u001b[1;32m     56\u001b[0m         data \u001b[39m=\u001b[39m \u001b[39mself\u001b[39m\u001b[39m.\u001b[39mdataset\u001b[39m.\u001b[39m__getitems__(possibly_batched_index)\n\u001b[1;32m     57\u001b[0m     \u001b[39melse\u001b[39;00m:\n\u001b[0;32m---> 58\u001b[0m         data \u001b[39m=\u001b[39m [\u001b[39mself\u001b[39;49m\u001b[39m.\u001b[39;49mdataset[idx] \u001b[39mfor\u001b[39;00m idx \u001b[39min\u001b[39;00m possibly_batched_index]\n\u001b[1;32m     59\u001b[0m \u001b[39melse\u001b[39;00m:\n\u001b[1;32m     60\u001b[0m     data \u001b[39m=\u001b[39m \u001b[39mself\u001b[39m\u001b[39m.\u001b[39mdataset[possibly_batched_index]\n",
      "File \u001b[0;32m~/Desktop/NTNU/master/sparsity/alu_dataset.py:23\u001b[0m, in \u001b[0;36mDataset_alu.__getitem__\u001b[0;34m(self, index)\u001b[0m\n\u001b[1;32m     19\u001b[0m \u001b[39mdef\u001b[39;00m \u001b[39m__getitem__\u001b[39m(\u001b[39mself\u001b[39m, index):\n\u001b[1;32m     21\u001b[0m     X \u001b[39m=\u001b[39m \u001b[39mself\u001b[39m\u001b[39m.\u001b[39mx[index]\n\u001b[0;32m---> 23\u001b[0m     Y \u001b[39m=\u001b[39m \u001b[39mself\u001b[39;49m\u001b[39m.\u001b[39;49my[index]\n\u001b[1;32m     25\u001b[0m     \u001b[39mreturn\u001b[39;00m X, Y\n",
      "\u001b[0;31mKeyboardInterrupt\u001b[0m: "
     ]
    }
   ],
   "source": [
    "model.train_n_epochs(train_loader=train_loader, n_epochs=50, lr=0.01, weight_decay=0.001, epochs_reallocate=5)\n",
    "model.train_n_epochs(train_loader=train_loader, n_epochs=50, lr=0.001, weight_decay=0.001, epochs_reallocate=150)"
   ]
  },
  {
   "cell_type": "code",
   "execution_count": null,
   "metadata": {},
   "outputs": [],
   "source": [
    "y_pred = model(test_data.x).detach().numpy()"
   ]
  },
  {
   "cell_type": "code",
   "execution_count": null,
   "metadata": {},
   "outputs": [
    {
     "data": {
      "image/png": "[encoded data removed]",
      "text/plain": [
       "<Figure size 640x480 with 1 Axes>"
      ]
     },
     "metadata": {},
     "output_type": "display_data"
    }
   ],
   "source": [
    "# plot y and y_pred\n",
    "plt.plot(t_test, test_data.y[:, 0], label=\"y\")\n",
    "plt.plot(t_test, y_pred[:, 0], label=\"y_pred\")\n",
    "plt.legend()\n",
    "plt.show()"
   ]
  },
  {
   "cell_type": "code",
   "execution_count": null,
   "metadata": {},
   "outputs": [
    {
     "data": {
      "text/plain": [
       "[tensor(0.), tensor(0.3254), tensor(0.6658), tensor(0.0625)]"
      ]
     },
     "execution_count": 8,
     "metadata": {},
     "output_type": "execute_result"
    }
   ],
   "source": [
    "model.get_layerwise_sparsity()"
   ]
  },
  {
   "cell_type": "code",
   "execution_count": null,
   "metadata": {},
   "outputs": [
    {
     "data": {
      "text/plain": [
       "0.4291107654571533"
      ]
     },
     "execution_count": 9,
     "metadata": {},
     "output_type": "execute_result"
    }
   ],
   "source": [
    "model.get_sparsity()"
   ]
  },
  {
   "cell_type": "code",
   "execution_count": null,
   "metadata": {},
   "outputs": [
    {
     "data": {
      "text/plain": [
       "tensor(0)"
      ]
     },
     "execution_count": 27,
     "metadata": {},
     "output_type": "execute_result"
    }
   ],
   "source": [
    "layer = 3\n",
    "torch.mul((model.layers[layer].weight.abs() < 0), (model.layers[layer].weight != 0)).count_nonzero()"
   ]
  },
  {
   "cell_type": "code",
   "execution_count": null,
   "metadata": {},
   "outputs": [
    {
     "ename": "IndexError",
     "evalue": "index 4 is out of range",
     "output_type": "error",
     "traceback": [
      "\u001b[0;31m---------------------------------------------------------------------------\u001b[0m",
      "\u001b[0;31mIndexError\u001b[0m                                Traceback (most recent call last)",
      "Cell \u001b[0;32mIn [41], line 2\u001b[0m\n\u001b[1;32m      1\u001b[0m layer \u001b[39m=\u001b[39m \u001b[39m4\u001b[39m\n\u001b[0;32m----> 2\u001b[0m (torch\u001b[39m.\u001b[39mwhere(((model\u001b[39m.\u001b[39;49mlayers[layer]\u001b[39m.\u001b[39mweight\u001b[39m.\u001b[39mabs() \u001b[39m<\u001b[39m \u001b[39m0.1\u001b[39m) \u001b[39m&\u001b[39m (model\u001b[39m.\u001b[39mlayers[layer]\u001b[39m.\u001b[39mweight \u001b[39m!=\u001b[39m torch\u001b[39m.\u001b[39mtensor(\u001b[39m0\u001b[39m))), \u001b[39m0\u001b[39m, model\u001b[39m.\u001b[39mlayers[layer]\u001b[39m.\u001b[39mweight) \u001b[39m-\u001b[39m model\u001b[39m.\u001b[39mlayers[layer]\u001b[39m.\u001b[39mweight)\u001b[39m.\u001b[39msum()\n",
      "File \u001b[0;32m~/mambaforge/envs/sparse/lib/python3.9/site-packages/torch/nn/modules/container.py:282\u001b[0m, in \u001b[0;36mModuleList.__getitem__\u001b[0;34m(self, idx)\u001b[0m\n\u001b[1;32m    280\u001b[0m     \u001b[39mreturn\u001b[39;00m \u001b[39mself\u001b[39m\u001b[39m.\u001b[39m\u001b[39m__class__\u001b[39m(\u001b[39mlist\u001b[39m(\u001b[39mself\u001b[39m\u001b[39m.\u001b[39m_modules\u001b[39m.\u001b[39mvalues())[idx])\n\u001b[1;32m    281\u001b[0m \u001b[39melse\u001b[39;00m:\n\u001b[0;32m--> 282\u001b[0m     \u001b[39mreturn\u001b[39;00m \u001b[39mself\u001b[39m\u001b[39m.\u001b[39m_modules[\u001b[39mself\u001b[39;49m\u001b[39m.\u001b[39;49m_get_abs_string_index(idx)]\n",
      "File \u001b[0;32m~/mambaforge/envs/sparse/lib/python3.9/site-packages/torch/nn/modules/container.py:272\u001b[0m, in \u001b[0;36mModuleList._get_abs_string_index\u001b[0;34m(self, idx)\u001b[0m\n\u001b[1;32m    270\u001b[0m idx \u001b[39m=\u001b[39m operator\u001b[39m.\u001b[39mindex(idx)\n\u001b[1;32m    271\u001b[0m \u001b[39mif\u001b[39;00m \u001b[39mnot\u001b[39;00m (\u001b[39m-\u001b[39m\u001b[39mlen\u001b[39m(\u001b[39mself\u001b[39m) \u001b[39m<\u001b[39m\u001b[39m=\u001b[39m idx \u001b[39m<\u001b[39m \u001b[39mlen\u001b[39m(\u001b[39mself\u001b[39m)):\n\u001b[0;32m--> 272\u001b[0m     \u001b[39mraise\u001b[39;00m \u001b[39mIndexError\u001b[39;00m(\u001b[39m'\u001b[39m\u001b[39mindex \u001b[39m\u001b[39m{}\u001b[39;00m\u001b[39m is out of range\u001b[39m\u001b[39m'\u001b[39m\u001b[39m.\u001b[39mformat(idx))\n\u001b[1;32m    273\u001b[0m \u001b[39mif\u001b[39;00m idx \u001b[39m<\u001b[39m \u001b[39m0\u001b[39m:\n\u001b[1;32m    274\u001b[0m     idx \u001b[39m+\u001b[39m\u001b[39m=\u001b[39m \u001b[39mlen\u001b[39m(\u001b[39mself\u001b[39m)\n",
      "\u001b[0;31mIndexError\u001b[0m: index 4 is out of range"
     ]
    }
   ],
   "source": [
    "layer = 4\n",
    "(torch.where(((model.layers[layer].weight.abs() < 0.1) & (model.layers[layer].weight != torch.tensor(0))), 0, model.layers[layer].weight) - model.layers[layer].weight).sum()"
   ]
  },
  {
   "cell_type": "code",
   "execution_count": null,
   "metadata": {},
   "outputs": [
    {
     "data": {
      "text/plain": [
       "Parameter containing:\n",
       "tensor([[0.0000, 0.0000, 0.2687, 0.4586, 0.3419, 0.0000, 0.0000, 0.0000, 0.0000,\n",
       "         0.3504, 0.0000, 0.0000, 0.0000, 0.0000, 0.8363, 0.0000, 0.8122, 0.0000,\n",
       "         0.0000, 0.0000, 0.1023, 0.0000, 0.0000, 0.0000, 0.7328, 0.8426, 0.0000,\n",
       "         0.7026, 0.0967, 0.7599, 0.0000, 0.0000, 0.0000, 0.0000, 0.0000, 0.0000,\n",
       "         0.0000, 0.6864, 0.2718, 0.6186, 0.5160, 0.5639, 0.6591, 0.1285, 0.0000,\n",
       "         0.0000, 0.2822, 0.0000, 0.0000, 0.0000, 0.0000, 0.6796, 0.1521, 0.0000,\n",
       "         0.1415, 0.0000, 0.0000, 0.6251, 0.0000, 0.0000, 0.8639, 0.4636, 0.1307,\n",
       "         0.9527],\n",
       "        [0.5694, 0.1875, 0.1470, 0.0000, 0.0000, 0.0000, 0.0286, 0.0000, 0.8333,\n",
       "         0.0000, 0.7438, 0.0000, 0.0000, 0.0000, 0.0000, 0.0000, 0.9043, 0.9679,\n",
       "         0.8834, 0.8501, 0.5715, 0.8038, 0.0000, 0.7425, 0.0000, 0.4020, 0.0000,\n",
       "         0.2725, 0.0000, 0.0000, 0.2348, 0.0000, 0.0000, 0.5275, 0.4563, 0.4845,\n",
       "         0.0000, 0.7754, 0.2306, 0.0000, 0.0000, 0.0000, 0.0000, 0.9441, 0.0000,\n",
       "         0.0000, 0.0000, 0.0000, 0.7823, 0.1815, 0.0853, 0.0000, 0.0000, 0.8846,\n",
       "         0.0000, 0.0000, 0.1690, 0.0000, 0.0000, 0.0000, 0.0000, 0.0000, 0.2208,\n",
       "         0.6041],\n",
       "        [0.6448, 0.2360, 0.8393, 0.8954, 0.2233, 0.0000, 0.6272, 0.0491, 0.0000,\n",
       "         0.0000, 0.6743, 0.8550, 0.1802, 0.0000, 0.0000, 0.0000, 0.9328, 0.0000,\n",
       "         0.0000, 0.0000, 0.0000, 0.7174, 0.0000, 0.1229, 0.8867, 0.9149, 0.7873,\n",
       "         0.0000, 0.7447, 0.9598, 0.0000, 0.0000, 0.3761, 0.0573, 0.8018, 0.7791,\n",
       "         0.4462, 0.0000, 0.0852, 0.8496, 0.0126, 0.0000, 0.0000, 0.8418, 0.0000,\n",
       "         0.9900, 0.7015, 0.0000, 0.3497, 0.7457, 0.0000, 0.3542, 0.6348, 0.0085,\n",
       "         0.2710, 0.0000, 0.0000, 0.7874, 0.4959, 0.0000, 0.4673, 0.8623, 0.0000,\n",
       "         0.0000],\n",
       "        [0.9981, 0.7223, 0.7541, 0.7572, 0.0000, 0.1806, 0.7851, 0.2171, 0.0000,\n",
       "         0.0000, 0.0000, 0.9437, 0.4277, 0.0854, 0.0000, 0.1615, 0.6414, 0.0000,\n",
       "         0.8037, 0.4751, 0.0000, 0.0000, 0.0000, 0.5146, 0.9723, 0.0000, 0.2918,\n",
       "         0.4213, 0.9245, 0.9283, 0.0000, 0.0000, 0.0419, 0.0000, 0.7892, 0.0000,\n",
       "         0.5835, 0.0000, 0.7053, 0.0000, 0.4389, 0.5406, 0.0000, 0.5507, 0.8355,\n",
       "         0.0000, 0.3265, 0.0000, 0.0000, 0.0000, 0.1064, 0.6384, 0.0000, 0.0000,\n",
       "         0.5958, 0.0000, 0.8332, 0.0000, 0.0000, 0.0000, 0.3094, 0.4302, 0.7698,\n",
       "         0.7510],\n",
       "        [0.7858, 0.0000, 0.3732, 0.4149, 0.0000, 0.4534, 0.0282, 0.6385, 0.0000,\n",
       "         0.2816, 0.1707, 0.0000, 0.0000, 0.9534, 0.6763, 0.0000, 0.0000, 0.0000,\n",
       "         0.4731, 0.8357, 0.0650, 0.0608, 0.0000, 0.0000, 0.1859, 0.7525, 0.0000,\n",
       "         0.6393, 0.0000, 0.8503, 0.0000, 0.0000, 0.0598, 0.0000, 0.5646, 0.0000,\n",
       "         0.0000, 0.0000, 0.0000, 0.7795, 0.0000, 0.0000, 0.0000, 0.9497, 0.0000,\n",
       "         0.5509, 0.3284, 0.8916, 0.0000, 0.1521, 0.6611, 0.0000, 0.0000, 0.3118,\n",
       "         0.0000, 0.4478, 0.0000, 0.2919, 0.0545, 0.0000, 0.9537, 0.8056, 0.2845,\n",
       "         0.0000],\n",
       "        [0.1554, 0.0000, 0.0000, 0.1406, 0.9426, 0.0000, 0.0000, 0.0000, 0.0000,\n",
       "         0.0000, 0.0000, 0.7959, 0.0000, 0.0000, 0.0000, 0.0000, 0.2181, 0.8851,\n",
       "         0.0000, 0.4187, 0.0000, 0.0000, 0.1987, 0.5668, 0.0569, 0.0000, 0.0000,\n",
       "         0.9283, 0.0000, 0.2634, 0.6811, 0.2051, 0.0000, 0.6259, 0.0000, 0.0000,\n",
       "         0.1280, 0.0000, 0.0000, 0.0000, 0.0000, 0.2560, 0.5153, 0.3601, 0.2542,\n",
       "         0.0000, 0.1411, 0.0000, 0.1440, 0.2064, 0.8709, 0.0000, 0.3802, 0.0000,\n",
       "         0.0000, 0.8621, 0.3437, 0.0000, 0.0000, 0.1106, 0.5548, 0.0000, 0.6981,\n",
       "         0.0000],\n",
       "        [0.0000, 0.6985, 0.8977, 0.0000, 0.0000, 0.8313, 0.3326, 0.0000, 0.5950,\n",
       "         0.0000, 0.0000, 0.0874, 0.0000, 0.9657, 0.3497, 0.2532, 0.6208, 0.2544,\n",
       "         0.8643, 0.8210, 0.0000, 0.2490, 0.7158, 0.0000, 0.0000, 0.0000, 0.6174,\n",
       "         0.1675, 0.0000, 0.0000, 0.0000, 0.7793, 0.0000, 0.0000, 0.0000, 0.4229,\n",
       "         0.2464, 0.4421, 0.0000, 0.0000, 0.3247, 0.0000, 0.0000, 0.1091, 0.0764,\n",
       "         0.0000, 0.4708, 0.4685, 0.0000, 0.1446, 0.0000, 0.4852, 0.2998, 0.0000,\n",
       "         0.1571, 0.0000, 0.0000, 0.7330, 0.2908, 0.0000, 0.5810, 0.0000, 0.3980,\n",
       "         0.0000],\n",
       "        [0.9938, 0.8761, 0.0000, 0.0000, 0.0000, 0.4692, 0.2275, 0.0000, 0.0000,\n",
       "         0.0000, 0.0000, 0.8699, 0.3902, 0.0000, 0.0000, 0.5085, 0.0000, 0.0000,\n",
       "         0.0000, 0.1193, 0.0000, 0.0000, 0.0000, 0.5212, 0.5818, 0.7441, 0.0000,\n",
       "         0.3318, 0.0000, 0.0000, 0.2932, 0.0000, 0.5739, 0.5377, 0.0000, 0.0000,\n",
       "         0.3215, 0.0000, 0.5936, 0.2118, 0.4865, 0.3553, 0.2594, 0.0000, 0.0000,\n",
       "         0.0000, 0.0000, 0.4865, 0.0000, 0.0000, 0.7106, 0.0000, 0.9851, 0.0000,\n",
       "         0.0488, 0.1613, 0.0975, 0.0000, 0.0000, 0.0000, 0.0000, 0.0000, 0.3602,\n",
       "         0.0000],\n",
       "        [0.0000, 0.0000, 0.0000, 0.0000, 0.0000, 0.0000, 0.0000, 0.6383, 0.5152,\n",
       "         0.0000, 0.0000, 0.0000, 0.0000, 0.6411, 0.0000, 0.8573, 0.0000, 0.0000,\n",
       "         0.0646, 0.0000, 0.0000, 0.8231, 0.6630, 0.0000, 0.0000, 0.0000, 0.7720,\n",
       "         0.0376, 0.0567, 0.0000, 0.2591, 0.0000, 0.8084, 0.0000, 0.0125, 0.2568,\n",
       "         0.0902, 0.0000, 0.0000, 0.6317, 0.0000, 0.0000, 0.8692, 0.0000, 0.0000,\n",
       "         0.9205, 0.5097, 0.0000, 0.0000, 0.2347, 0.4439, 0.0000, 0.0000, 0.3239,\n",
       "         0.0000, 0.0000, 0.0000, 0.0000, 0.6899, 0.4556, 0.0000, 0.0000, 0.0000,\n",
       "         0.9152],\n",
       "        [0.2714, 0.0000, 0.0000, 0.0000, 0.0000, 0.0000, 0.0000, 0.0000, 0.1464,\n",
       "         0.8389, 0.7567, 0.0000, 0.0000, 0.0000, 0.3619, 0.7488, 0.4388, 0.6414,\n",
       "         0.7653, 0.0000, 0.0000, 0.1156, 0.0000, 0.0000, 0.4885, 0.1398, 0.0000,\n",
       "         0.2071, 0.6391, 0.6979, 0.0000, 0.0000, 0.5971, 0.3323, 0.9551, 0.9751,\n",
       "         0.7661, 0.8466, 0.8174, 0.4508, 0.0000, 0.6173, 0.5298, 0.0000, 0.0000,\n",
       "         0.1966, 0.7645, 0.7790, 0.4079, 0.6391, 0.0000, 0.0000, 0.7791, 0.0000,\n",
       "         0.0000, 0.3064, 0.0000, 0.7517, 0.0000, 0.0000, 0.0000, 0.0000, 0.2950,\n",
       "         0.9457],\n",
       "        [0.0000, 0.8188, 0.0000, 0.6590, 0.3670, 0.0000, 0.0000, 0.0253, 0.1090,\n",
       "         0.0000, 0.0000, 0.8384, 0.0000, 0.1628, 0.0000, 0.7418, 0.5726, 0.0000,\n",
       "         0.0000, 0.7301, 0.0000, 0.0000, 0.0000, 0.9440, 0.0000, 0.0000, 0.4897,\n",
       "         0.2219, 0.0000, 0.1273, 0.0000, 0.4345, 0.3431, 0.0944, 0.0000, 0.8047,\n",
       "         0.0000, 0.3514, 0.9364, 0.4618, 0.0000, 0.4847, 0.0000, 0.0000, 0.5816,\n",
       "         0.0000, 0.0000, 0.0000, 0.0000, 0.9898, 0.8159, 0.1281, 0.2790, 0.5152,\n",
       "         0.0000, 0.4203, 0.0000, 0.0000, 0.0000, 0.3791, 0.0000, 0.0000, 0.9328,\n",
       "         0.0000],\n",
       "        [0.6586, 0.6610, 0.0000, 0.6042, 0.0000, 0.0000, 0.0000, 0.0000, 0.0000,\n",
       "         0.7725, 0.0000, 0.0000, 0.0000, 0.2488, 0.4873, 0.8194, 0.5881, 0.4047,\n",
       "         0.0000, 0.3959, 0.3787, 0.5963, 0.0000, 0.2348, 0.0000, 0.0822, 0.2539,\n",
       "         0.0592, 0.0000, 0.3980, 0.2836, 0.0000, 0.0000, 0.0000, 0.0000, 0.5044,\n",
       "         0.2159, 0.0000, 0.9208, 0.0000, 0.9845, 0.5337, 0.0000, 0.2910, 0.0000,\n",
       "         0.2276, 0.3091, 0.0000, 0.0000, 0.1718, 0.6499, 0.0000, 0.0000, 0.7826,\n",
       "         0.0000, 0.0000, 0.2815, 0.6655, 0.0000, 0.5311, 0.2524, 0.0000, 0.0000,\n",
       "         0.3523],\n",
       "        [0.7379, 0.7607, 0.6215, 0.5568, 0.0000, 0.0000, 0.3291, 0.0000, 0.0000,\n",
       "         0.0000, 0.6786, 0.0000, 0.0000, 0.0000, 0.0000, 0.6765, 0.0000, 0.1659,\n",
       "         0.0000, 0.5350, 0.3441, 0.8212, 0.3324, 0.8832, 0.0000, 0.0418, 0.0000,\n",
       "         0.4761, 0.0000, 0.0000, 0.6535, 0.0000, 0.0000, 0.0000, 0.0666, 0.8816,\n",
       "         0.0000, 0.0000, 0.7381, 0.0838, 0.0000, 0.0000, 0.1035, 0.0000, 0.0000,\n",
       "         0.5698, 0.4587, 0.7614, 0.9939, 0.0000, 0.1235, 0.0915, 0.0000, 0.0000,\n",
       "         0.0907, 0.5316, 0.0000, 0.1953, 0.0000, 0.0000, 0.0000, 0.0843, 0.0000,\n",
       "         0.7583]], requires_grad=True)"
      ]
     },
     "execution_count": 12,
     "metadata": {},
     "output_type": "execute_result"
    }
   ],
   "source": [
    "layer = 0\n",
    "torch.nn.Parameter(torch.where(((model.layers[layer].weight.abs() < 0) & (model.layers[layer].weight != torch.tensor(0))), 0, model.layers[layer].weight))"
   ]
  },
  {
   "cell_type": "code",
   "execution_count": null,
   "metadata": {},
   "outputs": [
    {
     "data": {
      "text/plain": [
       "tensor(0)"
      ]
     },
     "execution_count": 14,
     "metadata": {},
     "output_type": "execute_result"
    }
   ],
   "source": [
    "layer = 0\n",
    "torch.mul((model.layers[layer].weight.abs() < 0), (model.layers[layer].weight != 0)).count_nonzero()"
   ]
  },
  {
   "cell_type": "code",
   "execution_count": null,
   "metadata": {},
   "outputs": [],
   "source": []
  }
 ],
 "metadata": {
  "kernelspec": {
   "display_name": "Python 3.9.0 ('sparse')",
   "language": "python",
   "name": "python3"
  },
  "language_info": {
   "codemirror_mode": {
    "name": "ipython",
    "version": 3
   },
   "file_extension": ".py",
   "mimetype": "text/x-python",
   "name": "python",
   "nbconvert_exporter": "python",
   "pygments_lexer": "ipython3",
   "version": "3.9.0"
  },
  "orig_nbformat": 4,
  "vscode": {
   "interpreter": {
    "hash": "b06fda3086313e6f926d9e81a28dd19783a2cc6858134d9c7cf4f82b03168ef3"
   }
  }
 },
 "nbformat": 4,
 "nbformat_minor": 2
}
